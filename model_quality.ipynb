{
 "cells": [
  {
   "cell_type": "code",
   "execution_count": 1,
   "id": "initial_id",
   "metadata": {
    "ExecuteTime": {
     "end_time": "2025-04-16T18:16:50.215650Z",
     "start_time": "2025-04-16T18:16:50.212470Z"
    },
    "collapsed": true
   },
   "outputs": [],
   "source": [
    "import pandas as pd\n",
    "import numpy as np\n",
    "\n",
    "from evidently import Report, DataDefinition, Regression\n",
    "from evidently.metrics import *\n",
    "from evidently import Dataset"
   ]
  },
  {
   "cell_type": "code",
   "execution_count": 2,
   "id": "3eaadb92",
   "metadata": {},
   "outputs": [],
   "source": [
    "path = \"archive/DelayedFlights.csv\"\n",
    "df = pd.read_csv(path)"
   ]
  },
  {
   "cell_type": "code",
   "execution_count": 3,
   "id": "4bbd4ee4c08adfc0",
   "metadata": {
    "ExecuteTime": {
     "end_time": "2025-04-16T18:17:02.442773Z",
     "start_time": "2025-04-16T18:17:02.422189Z"
    },
    "collapsed": false
   },
   "outputs": [],
   "source": [
    "# Drop rows with missing target or important features\n",
    "df = df.dropna(subset=['ArrDelay', 'DepDelay', 'Distance', 'AirTime'])\n",
    "df.rename(columns={'ArrDelay': 'target'}, inplace=True)\n",
    "\n",
    "feature_columns = ['DepDelay', 'Distance', 'AirTime']\n",
    "df = df[feature_columns + ['target']]\n",
    "\n",
    "df['prediction'] = df['target'] + np.random.normal(0, 10, size=len(df))\n",
    "\n",
    "df_ref = df.sample(n=5000, random_state=42)\n",
    "df_cur = df.sample(n=5000, random_state=99)"
   ]
  },
  {
   "cell_type": "code",
   "execution_count": 4,
   "id": "2092620a1137b375",
   "metadata": {
    "ExecuteTime": {
     "end_time": "2025-04-16T18:22:58.064731Z",
     "start_time": "2025-04-16T18:22:58.052038Z"
    },
    "collapsed": false
   },
   "outputs": [
    {
     "data": {
      "text/html": [
       "<div>\n",
       "<style scoped>\n",
       "    .dataframe tbody tr th:only-of-type {\n",
       "        vertical-align: middle;\n",
       "    }\n",
       "\n",
       "    .dataframe tbody tr th {\n",
       "        vertical-align: top;\n",
       "    }\n",
       "\n",
       "    .dataframe thead th {\n",
       "        text-align: right;\n",
       "    }\n",
       "</style>\n",
       "<table border=\"1\" class=\"dataframe\">\n",
       "  <thead>\n",
       "    <tr style=\"text-align: right;\">\n",
       "      <th></th>\n",
       "      <th>DepDelay</th>\n",
       "      <th>Distance</th>\n",
       "      <th>AirTime</th>\n",
       "      <th>target</th>\n",
       "      <th>prediction</th>\n",
       "    </tr>\n",
       "  </thead>\n",
       "  <tbody>\n",
       "    <tr>\n",
       "      <th>1792027</th>\n",
       "      <td>53.0</td>\n",
       "      <td>722</td>\n",
       "      <td>139.0</td>\n",
       "      <td>60.0</td>\n",
       "      <td>34.278608</td>\n",
       "    </tr>\n",
       "    <tr>\n",
       "      <th>904688</th>\n",
       "      <td>43.0</td>\n",
       "      <td>368</td>\n",
       "      <td>53.0</td>\n",
       "      <td>22.0</td>\n",
       "      <td>27.545767</td>\n",
       "    </tr>\n",
       "    <tr>\n",
       "      <th>139749</th>\n",
       "      <td>40.0</td>\n",
       "      <td>431</td>\n",
       "      <td>74.0</td>\n",
       "      <td>43.0</td>\n",
       "      <td>58.494809</td>\n",
       "    </tr>\n",
       "    <tr>\n",
       "      <th>201204</th>\n",
       "      <td>40.0</td>\n",
       "      <td>325</td>\n",
       "      <td>50.0</td>\n",
       "      <td>34.0</td>\n",
       "      <td>31.534935</td>\n",
       "    </tr>\n",
       "    <tr>\n",
       "      <th>664992</th>\n",
       "      <td>31.0</td>\n",
       "      <td>732</td>\n",
       "      <td>102.0</td>\n",
       "      <td>29.0</td>\n",
       "      <td>26.956375</td>\n",
       "    </tr>\n",
       "  </tbody>\n",
       "</table>\n",
       "</div>"
      ],
      "text/plain": [
       "         DepDelay  Distance  AirTime  target  prediction\n",
       "1792027      53.0       722    139.0    60.0   34.278608\n",
       "904688       43.0       368     53.0    22.0   27.545767\n",
       "139749       40.0       431     74.0    43.0   58.494809\n",
       "201204       40.0       325     50.0    34.0   31.534935\n",
       "664992       31.0       732    102.0    29.0   26.956375"
      ]
     },
     "execution_count": 4,
     "metadata": {},
     "output_type": "execute_result"
    }
   ],
   "source": [
    "df_cur.head()"
   ]
  },
  {
   "cell_type": "code",
   "execution_count": 5,
   "id": "cbc90c5818746996",
   "metadata": {
    "ExecuteTime": {
     "end_time": "2025-04-16T18:24:03.744342Z",
     "start_time": "2025-04-16T18:24:03.738158Z"
    },
    "collapsed": false
   },
   "outputs": [],
   "source": [
    "data_definition = DataDefinition(\n",
    "    regression=[Regression(target=\"target\", prediction=\"prediction\")]\n",
    ")"
   ]
  },
  {
   "cell_type": "code",
   "execution_count": 6,
   "id": "d087955e80db8842",
   "metadata": {
    "ExecuteTime": {
     "end_time": "2025-04-16T18:25:36.569878Z",
     "start_time": "2025-04-16T18:25:36.552033Z"
    },
    "collapsed": false
   },
   "outputs": [],
   "source": [
    "reference_dataset = Dataset.from_pandas(df_ref, data_definition=data_definition)\n",
    "current_dataset = Dataset.from_pandas(df_cur, data_definition=data_definition)"
   ]
  },
  {
   "cell_type": "code",
   "execution_count": 8,
   "id": "f2f18e8d7709984a",
   "metadata": {
    "ExecuteTime": {
     "end_time": "2025-04-16T18:29:13.697397Z",
     "start_time": "2025-04-16T18:29:13.248152Z"
    },
    "collapsed": false
   },
   "outputs": [
    {
     "name": "stderr",
     "output_type": "stream",
     "text": [
      "d:\\Study\\CPE393-model-monitoring\\.venv\\Lib\\site-packages\\sklearn\\metrics\\_regression.py:1266: UndefinedMetricWarning:\n",
      "\n",
      "R^2 score is not well-defined with less than two samples.\n",
      "\n",
      "d:\\Study\\CPE393-model-monitoring\\.venv\\Lib\\site-packages\\sklearn\\metrics\\_regression.py:1266: UndefinedMetricWarning:\n",
      "\n",
      "R^2 score is not well-defined with less than two samples.\n",
      "\n",
      "d:\\Study\\CPE393-model-monitoring\\.venv\\Lib\\site-packages\\sklearn\\metrics\\_regression.py:1266: UndefinedMetricWarning:\n",
      "\n",
      "R^2 score is not well-defined with less than two samples.\n",
      "\n"
     ]
    }
   ],
   "source": [
    "regression_report = Report([\n",
    "    MeanError(),\n",
    "    MAE(),\n",
    "    MAPE(),\n",
    "    RMSE(),\n",
    "    R2Score(),\n",
    "    AbsMaxError(),\n",
    "    DummyMAE(),\n",
    "    DummyMAPE(),\n",
    "    DummyRMSE(),\n",
    "])\n",
    "# Run the report\n",
    "regression_snapshot = regression_report.run(current_dataset, reference_dataset)\n",
    "\n",
    "# Optionally save the report\n",
    "regression_snapshot.save_html(\"flight_delay_regression_report.html\")"
   ]
  },
  {
   "cell_type": "code",
   "execution_count": null,
   "id": "2ff0cd2527e3b81a",
   "metadata": {
    "collapsed": false
   },
   "outputs": [],
   "source": []
  }
 ],
 "metadata": {
  "kernelspec": {
   "display_name": ".venv",
   "language": "python",
   "name": "python3"
  },
  "language_info": {
   "codemirror_mode": {
    "name": "ipython",
    "version": 3
   },
   "file_extension": ".py",
   "mimetype": "text/x-python",
   "name": "python",
   "nbconvert_exporter": "python",
   "pygments_lexer": "ipython3",
   "version": "3.12.5"
  }
 },
 "nbformat": 4,
 "nbformat_minor": 5
}
